{
 "cells": [
  {
   "cell_type": "code",
   "execution_count": 112,
   "source": [
    "import pandas as pd\r\n",
    "import numpy as np"
   ],
   "outputs": [],
   "metadata": {}
  },
  {
   "cell_type": "code",
   "execution_count": 102,
   "source": [
    "'''\r\n",
    "Initially I web scrapped all data except vote count\r\n",
    "so I webscrapped vote count seperately and had to\r\n",
    "concat two seperate files with 10,000 columns\r\n",
    "'''\r\n",
    "\r\n",
    "#removed index=False because it made concat Impossible due to no indexing\r\n",
    "csv1 = pd.read_csv('Film_0_10000_data.csv')\r\n",
    "csv2 = pd.read_csv('Vote_Count_0_10000_data.csv')\r\n",
    "\r\n",
    "#opening them as dataframes\r\n",
    "df = pd.DataFrame(csv1)\r\n",
    "df1 = pd.DataFrame(csv2)\r\n",
    "\r\n",
    "#checking dimensions before\r\n",
    "print(np.shape(df))\r\n",
    "\r\n",
    "#concat operation by columns(axis=1)\r\n",
    "df = pd.concat([df, df1], axis=1) \r\n",
    "\r\n",
    "#checking dimensions after\r\n",
    "print(np.shape(df))\r\n",
    "\r\n",
    "#save to a csv\r\n",
    "df.to_csv('Film_Data_10K.csv', index=False)"
   ],
   "outputs": [
    {
     "output_type": "stream",
     "name": "stdout",
     "text": [
      "(10000, 14)\n",
      "(10000, 15)\n"
     ]
    }
   ],
   "metadata": {}
  }
 ],
 "metadata": {
  "orig_nbformat": 4,
  "language_info": {
   "name": "python",
   "version": "3.8.10",
   "mimetype": "text/x-python",
   "codemirror_mode": {
    "name": "ipython",
    "version": 3
   },
   "pygments_lexer": "ipython3",
   "nbconvert_exporter": "python",
   "file_extension": ".py"
  },
  "kernelspec": {
   "name": "python3",
   "display_name": "Python 3.8.10 64-bit ('AIJune21': conda)"
  },
  "interpreter": {
   "hash": "a3bf249ea78dba2d84ab0a63494139c3472e1b04ba122ee7cc485461b947b088"
  }
 },
 "nbformat": 4,
 "nbformat_minor": 2
}