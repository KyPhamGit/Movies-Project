{
 "cells": [
  {
   "cell_type": "code",
   "execution_count": 51,
   "source": [
    "import selenium\r\n",
    "from selenium import webdriver\r\n",
    "from time import sleep\r\n",
    "import numpy as np\r\n",
    "import pandas as pd\r\n",
    "import matplotlib.pyplot as plt\r\n",
    "import seaborn as sns"
   ],
   "outputs": [],
   "metadata": {}
  },
  {
   "cell_type": "code",
   "execution_count": 105,
   "source": [
    "file = 'Adventure_Movies_0_10000_data'\r\n",
    "csv1 = pd.read_csv(file + '.csv')\r\n",
    "df = pd.DataFrame(csv1)\r\n"
   ],
   "outputs": [],
   "metadata": {}
  },
  {
   "cell_type": "code",
   "execution_count": 106,
   "source": [
    "#swapping duration with genre due to scraping storing genre into duration when duration is absent\r\n",
    "#1046\r\n",
    "df['Age'], df['Duration (min)'] = np.where(df['Age'].str.match(r'(\\d* min)'), [df['Duration (min)'], df['Age']], [df['Age'], df['Duration (min)']])\r\n",
    "\r\n",
    "#swapping age with genre due to scraping storing genre into age when age is absent\r\n",
    "df['Genre'], df['Age'] = np.where(df['Age'].str.match(\"Adventure\"), [df['Age'], df['Genre']], [df['Genre'], df['Age']])\r\n",
    "df['Genre'], df['Age'] = np.where(df['Age'].str.len() > 9, [df['Age'], df['Genre']], [df['Genre'], df['Age']])\r\n"
   ],
   "outputs": [],
   "metadata": {}
  },
  {
   "cell_type": "code",
   "execution_count": 107,
   "source": [
    "#cleaning using regex\r\n",
    "#[^0-9] replaces everything except numbers\r\n",
    "df['Duration (min)'] = df['Duration (min)'].str.replace('[^0-9]','', regex=True)\r\n",
    "df['Year'] = df['Year'].str.replace('[^0-9]', '', regex=True)\r\n",
    "#[^0-9.] replaces everything except numbers with a decimal\r\n",
    "df['Gross (Millions)'] = df['Gross (Millions)'].str.replace('[^0-9.]', '',regex=True)\r\n"
   ],
   "outputs": [],
   "metadata": {}
  },
  {
   "cell_type": "code",
   "execution_count": 108,
   "source": [
    "#some small cleaning using replace:\r\n",
    "df['Genre'] = df['Genre'].str.replace('Adventure,', \" \")\r\n",
    "df['Genre'] = df['Genre'].str.replace('Adventure', \" \")"
   ],
   "outputs": [],
   "metadata": {}
  },
  {
   "cell_type": "code",
   "execution_count": 109,
   "source": [
    "#splitting Genre into sub genres\r\n",
    "df[['Sub Genre 1', 'Sub Genre 2']] = df['Genre'].str.split(',', 1, expand=True)\r\n",
    "del df['Genre']"
   ],
   "outputs": [],
   "metadata": {}
  },
  {
   "cell_type": "code",
   "execution_count": 110,
   "source": [
    "df['Sub Genre 1'] = df['Sub Genre 1'].str.replace('\\s', '',regex=True)\r\n",
    "df['Sub Genre 2'] = df['Sub Genre 2'].str.replace('\\s', '',regex=True)"
   ],
   "outputs": [],
   "metadata": {}
  },
  {
   "cell_type": "code",
   "execution_count": 111,
   "source": [
    "df.to_csv(file + '_cleaned.csv', index=False)\r\n",
    "\r\n",
    "\r\n",
    "#to do\r\n",
    "#https://www.imdb.com/search/title/?title_type=feature&genres=adventure&sort=num_votes,desc&start=9951&explore=genres&ref_=adv_nxt\r\n",
    "#beyond this page, use click()"
   ],
   "outputs": [],
   "metadata": {}
  }
 ],
 "metadata": {
  "orig_nbformat": 4,
  "language_info": {
   "name": "python",
   "version": "3.8.10",
   "mimetype": "text/x-python",
   "codemirror_mode": {
    "name": "ipython",
    "version": 3
   },
   "pygments_lexer": "ipython3",
   "nbconvert_exporter": "python",
   "file_extension": ".py"
  },
  "kernelspec": {
   "name": "python3",
   "display_name": "Python 3.8.10 64-bit ('AIJune21': conda)"
  },
  "interpreter": {
   "hash": "092bec0c4ae4ebe8bad111e1048869413ccaa9adb0db493172afb39f599ba586"
  }
 },
 "nbformat": 4,
 "nbformat_minor": 2
}