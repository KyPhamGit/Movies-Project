{
 "cells": [
  {
   "cell_type": "code",
   "execution_count": 1,
   "source": [
    "import selenium\r\n",
    "from selenium import webdriver\r\n",
    "from time import sleep\r\n",
    "import numpy as np\r\n",
    "import pandas as pd\r\n",
    "import matplotlib.pyplot as plt\r\n",
    "import seaborn as sns"
   ],
   "outputs": [],
   "metadata": {}
  },
  {
   "cell_type": "code",
   "execution_count": 2,
   "source": [
    "file = 'Adventure_Movies_0_10000_data'\r\n",
    "csv1 = pd.read_csv(file + '.csv')\r\n",
    "df = pd.DataFrame(csv1)\r\n"
   ],
   "outputs": [],
   "metadata": {}
  },
  {
   "cell_type": "code",
   "execution_count": 3,
   "source": [
    "#swapping duration with age due to scraping storing duration into age when age is absent\r\n",
    "#1046\r\n",
    "df['Age'], df['Duration (min)'] = np.where(df['Age'].str.match(r'(\\d* min)'), [df['Duration (min)'], df['Age']], [df['Age'], df['Duration (min)']])\r\n",
    "\r\n",
    "#swapping genre with age because of the above absence, data is shifted.\r\n",
    "df['Genre'], df['Age'] = np.where(df['Age'].str.match(\"Adventure\"), [df['Age'], df['Genre']], [df['Genre'], df['Age']])\r\n",
    "df['Genre'], df['Age'] = np.where(df['Age'].str.len() > 9, [df['Age'], df['Genre']], [df['Genre'], df['Age']])\r\n"
   ],
   "outputs": [],
   "metadata": {}
  },
  {
   "cell_type": "code",
   "execution_count": 4,
   "source": [
    "#cleaning using regex\r\n",
    "\r\n",
    "#[^0-9] replaces everything except numbers (removing min)\r\n",
    "df['Duration (min)'] = df['Duration (min)'].str.replace('[^0-9]','', regex=True)\r\n",
    "df['Year'] = df['Year'].str.replace('[^0-9]', '', regex=True)\r\n",
    "#[^0-9.] replaces everything except numbers with a decimal (removing symbols)\r\n",
    "df['Gross (Millions)'] = df['Gross (Millions)'].str.replace('[^0-9.]', '',regex=True)\r\n"
   ],
   "outputs": [],
   "metadata": {}
  },
  {
   "cell_type": "code",
   "execution_count": 5,
   "source": [
    "#some small cleaning using replace:\r\n",
    "df['Genre'] = df['Genre'].str.replace('Adventure,', \" \")\r\n",
    "df['Genre'] = df['Genre'].str.replace('Adventure', \" \")"
   ],
   "outputs": [],
   "metadata": {}
  },
  {
   "cell_type": "code",
   "execution_count": 6,
   "source": [
    "#splitting Genre into sub genres\r\n",
    "df[['Sub Genre 1', 'Sub Genre 2']] = df['Genre'].str.split(',', 1, expand=True)\r\n",
    "del df['Genre']"
   ],
   "outputs": [],
   "metadata": {}
  },
  {
   "cell_type": "code",
   "execution_count": 7,
   "source": [
    "#cleaning non-word in the data\r\n",
    "df['Sub Genre 1'] = df['Sub Genre 1'].str.replace('[^\\w]', '',regex=True)\r\n",
    "df['Sub Genre 2'] = df['Sub Genre 2'].str.replace('[^\\w]', '',regex=True)"
   ],
   "outputs": [],
   "metadata": {}
  },
  {
   "cell_type": "code",
   "execution_count": 12,
   "source": [
    "#dropping rows with missing data\r\n",
    "df = df.dropna(axis='index',how='any')"
   ],
   "outputs": [],
   "metadata": {}
  },
  {
   "cell_type": "code",
   "execution_count": 17,
   "source": [
    "\r\n",
    "df.to_csv('Adventure_Movies_0_' + str(len(df)) + '_data' + '_cleaned.csv', index=False)\r\n",
    "\r\n",
    "\r\n",
    "#to do\r\n",
    "#https://www.imdb.com/search/title/?title_type=feature&genres=adventure&sort=num_votes,desc&start=9951&explore=genres&ref_=adv_nxt\r\n",
    "#beyond this page, use click()"
   ],
   "outputs": [],
   "metadata": {}
  }
 ],
 "metadata": {
  "orig_nbformat": 4,
  "language_info": {
   "name": "python",
   "version": "3.8.10",
   "mimetype": "text/x-python",
   "codemirror_mode": {
    "name": "ipython",
    "version": 3
   },
   "pygments_lexer": "ipython3",
   "nbconvert_exporter": "python",
   "file_extension": ".py"
  },
  "kernelspec": {
   "name": "python3",
   "display_name": "Python 3.8.10 64-bit ('AIJune21': conda)"
  },
  "interpreter": {
   "hash": "a3bf249ea78dba2d84ab0a63494139c3472e1b04ba122ee7cc485461b947b088"
  }
 },
 "nbformat": 4,
 "nbformat_minor": 2
}