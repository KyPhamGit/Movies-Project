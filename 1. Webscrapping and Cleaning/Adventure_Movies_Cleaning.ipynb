{
 "cells": [
  {
   "cell_type": "code",
   "execution_count": 1,
   "source": [
    "import selenium\r\n",
    "from selenium import webdriver\r\n",
    "from time import sleep\r\n",
    "import numpy as np\r\n",
    "import pandas as pd\r\n",
    "import matplotlib.pyplot as plt\r\n",
    "import seaborn as sns"
   ],
   "outputs": [],
   "metadata": {}
  },
  {
   "cell_type": "code",
   "execution_count": 2,
   "source": [
    "file = 'Film_0_100_data'\r\n",
    "csv1 = pd.read_csv(file + '.csv')\r\n",
    "df = pd.DataFrame(csv1)\r\n"
   ],
   "outputs": [],
   "metadata": {}
  },
  {
   "cell_type": "code",
   "execution_count": 3,
   "source": [
    "#cleaning using regex\r\n",
    "#[0-9]+\\smin to remove patterns with numbers and space and 'min' \r\n",
    "df['Age'] = df['Age'].str.replace('([0-9]+\\smin)', '', regex=True)\r\n",
    "#[^0-9] replaces everything except numbers\r\n",
    "df['Duration (min)'] = df['Duration (min)'].str.replace('[^0-9]','', regex=True)\r\n",
    "df['Year'] = df['Year'].str.replace('[^0-9]', '', regex=True)\r\n",
    "#[^0-9.] replaces everything except numbers with a decimal\r\n",
    "df['Gross (Millions)'] = df['Gross (Millions)'].str.replace('[^0-9.]', '',regex=True)\r\n",
    "\r\n",
    "#some small cleaning using replace:\r\n",
    "df['Genre'] = df['Genre'].str.replace('Adventure,', \" \")\r\n",
    "df['Genre'] = df['Genre'].str.replace('Adventure', \" \")"
   ],
   "outputs": [],
   "metadata": {}
  },
  {
   "cell_type": "code",
   "execution_count": null,
   "source": [
    "#splitting Genre into sub genres\r\n",
    "df_1 = pd.DataFrame(df.Genre.str.split(',',1).tolist(),columns = ['Sub Genre 1','Sub Genre 2'])\r\n",
    "df = pd.concat([df, df_1], axis=1) \r\n",
    "df = df.drop(['Genre'], axis=1)\r\n",
    "df['Sub Genre 1'] = df['Sub Genre 1'].str.strip()\r\n",
    "df['Sub Genre 2'] = df['Sub Genre 2'].str.strip().replace('^\\s*$', np.nan , regex=True)\r\n",
    "\r\n",
    "df"
   ],
   "outputs": [],
   "metadata": {}
  },
  {
   "cell_type": "code",
   "execution_count": 5,
   "source": [
    "df.to_csv(file + '_cleaned.csv', index=False)\r\n",
    "\r\n",
    "\r\n",
    "#to do\r\n",
    "#https://www.imdb.com/search/title/?title_type=feature&genres=adventure&sort=num_votes,desc&start=9951&explore=genres&ref_=adv_nxt\r\n",
    "#beyond this page, use click()"
   ],
   "outputs": [],
   "metadata": {}
  }
 ],
 "metadata": {
  "orig_nbformat": 4,
  "language_info": {
   "name": "python",
   "version": "3.8.10",
   "mimetype": "text/x-python",
   "codemirror_mode": {
    "name": "ipython",
    "version": 3
   },
   "pygments_lexer": "ipython3",
   "nbconvert_exporter": "python",
   "file_extension": ".py"
  },
  "kernelspec": {
   "name": "python3",
   "display_name": "Python 3.8.10 64-bit ('AIJune21': conda)"
  },
  "interpreter": {
   "hash": "092bec0c4ae4ebe8bad111e1048869413ccaa9adb0db493172afb39f599ba586"
  }
 },
 "nbformat": 4,
 "nbformat_minor": 2
}